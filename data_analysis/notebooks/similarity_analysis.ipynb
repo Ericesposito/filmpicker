{
 "cells": [
  {
   "cell_type": "code",
   "execution_count": 1,
   "metadata": {},
   "outputs": [
    {
     "data": {
      "text/plain": [
       "title\n",
       "Brazil (1985)                                              0.448760\n",
       "Ghost World (2001)                                         0.413200\n",
       "Dawn of the Dead (1978)                                    0.405036\n",
       "Last Temptation of Christ, The (1988)                      0.386459\n",
       "Bound (1996)                                               0.384776\n",
       "Deer Hunter, The (1978)                                    0.380054\n",
       "Re-Animator (1985)                                         0.379944\n",
       "Fountain, The (2006)                                       0.376209\n",
       "Psycho (1960)                                              0.376027\n",
       "Wild at Heart (1990)                                       0.370177\n",
       "Solaris (Solyaris) (1972)                                  0.368080\n",
       "Drugstore Cowboy (1989)                                    0.367776\n",
       "Graduate, The (1967)                                       0.367720\n",
       "Bubba Ho-tep (2002)                                        0.367693\n",
       "Rosemary's Baby (1968)                                     0.366049\n",
       "Mystery Train (1989)                                       0.364458\n",
       "Sympathy for Mr. Vengeance (Boksuneun naui geot) (2002)    0.363594\n",
       "Taxi Driver (1976)                                         0.359775\n",
       "Devil's Backbone, The (Espinazo del diablo, El) (2001)     0.356951\n",
       "Name: Blue Velvet (1986), dtype: float64"
      ]
     },
     "execution_count": 1,
     "metadata": {},
     "output_type": "execute_result"
    }
   ],
   "source": [
    "import pandas as pd\n",
    "\n",
    "# Importing both sets of data, movies and ratings\n",
    "raw_data_movies = pd.read_csv('../data/raw/ml-latest-small/movies.csv')\n",
    "raw_data_ratings = pd.read_csv('../data/raw/ml-latest-small/ratings.csv')\n",
    "# Creating an inner join table\n",
    "movies_ratings_joined = pd.merge(raw_data_movies, raw_data_ratings, on='movieId', how='inner')\n",
    "\n",
    "# Create pivot table \n",
    "    # Columns represent movie titles\n",
    "    # Rows represent individual userIds\n",
    "    # Values in each cell represent that user's rating for that movie\n",
    "dataframe = movies_ratings_joined.pivot_table(index='userId', columns='title', values='rating')\n",
    "\n",
    "# Only retain films that have at least 5 ratings\n",
    "dataframe = dataframe.dropna(thresh=5, axis=1)\n",
    "# Replace any missing data with value of 0\n",
    "dataframe.fillna(0, inplace=True)\n",
    "\n",
    "\n",
    "# Create a data frame using the Pearson correlation to determine similarity value\n",
    "similarity_dataframe = dataframe.corr(method='pearson')\n",
    "\n",
    "#Store the data for later to be used in building the API\n",
    "similarity_dataframe.to_csv('../data/processed/movie_similarity.csv')\n",
    "\n",
    "# Peaking at similarity generation to verify structure and content\n",
    "# similarity_dataframe.head()\n",
    "\n",
    "# To test, designate a favorite movie\n",
    "# favorite_film = 'Blue Velvet (1986)'\n",
    "# Generate a list of similarity scores for favorite movie\n",
    "# fave_film_similarity_scores = similarity_dataframe[favorite_film]\n",
    "# Return sorted list of recommended films\n",
    "# fave_film_similarity_scores.sort_values(ascending=False)[1:15]"
   ]
  }
 ],
 "metadata": {
  "kernelspec": {
   "display_name": "movieAppData",
   "language": "python",
   "name": "python3"
  },
  "language_info": {
   "codemirror_mode": {
    "name": "ipython",
    "version": 3
   },
   "file_extension": ".py",
   "mimetype": "text/x-python",
   "name": "python",
   "nbconvert_exporter": "python",
   "pygments_lexer": "ipython3",
   "version": "3.11.5"
  }
 },
 "nbformat": 4,
 "nbformat_minor": 2
}
