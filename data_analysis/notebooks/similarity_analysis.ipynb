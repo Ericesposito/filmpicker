{
 "cells": [
  {
   "cell_type": "code",
   "execution_count": 1,
   "metadata": {},
   "outputs": [],
   "source": [
    "import pandas as pd\n",
    "\n",
    "# Importing both sets of data, movies and ratings\n",
    "raw_data_movies = pd.read_csv('../data/raw/ml-latest-small/movies.csv')\n",
    "raw_data_ratings = pd.read_csv('../data/raw/ml-latest-small/ratings.csv')\n",
    "# Creating an inner join table\n",
    "movies_ratings_joined = pd.merge(raw_data_movies, raw_data_ratings, on='movieId', how='inner')\n",
    "\n",
    "# Create pivot table \n",
    "    # Columns represent movie titles\n",
    "    # Rows represent individual userIds\n",
    "    # Values in each cell represent that user's rating for that movie\n",
    "dataframe = movies_ratings_joined.pivot_table(index='userId', columns='title', values='rating')\n",
    "\n",
    "# Only retain films that have at least 5 ratings\n",
    "dataframe = dataframe.dropna(thresh=5, axis=1)\n",
    "# Replace any missing data with value of 0\n",
    "dataframe.fillna(0, inplace=True)\n",
    "\n",
    "\n",
    "# Create a data frame using the Pearson correlation to determine similarity value\n",
    "similarity_dataframe = dataframe.corr(method='pearson')\n",
    "\n",
    "#Store the data for later to be used in building the API\n",
    "similarity_dataframe.to_csv('../data/processed/movie_similarity.csv')\n",
    "\n",
    "# Peaking at similarity generation to verify structure and content\n",
    "# similarity_dataframe.head()"
   ]
  }
 ],
 "metadata": {
  "kernelspec": {
   "display_name": "movieAppData",
   "language": "python",
   "name": "python3"
  },
  "language_info": {
   "codemirror_mode": {
    "name": "ipython",
    "version": 3
   },
   "file_extension": ".py",
   "mimetype": "text/x-python",
   "name": "python",
   "nbconvert_exporter": "python",
   "pygments_lexer": "ipython3",
   "version": "3.11.7"
  }
 },
 "nbformat": 4,
 "nbformat_minor": 2
}
