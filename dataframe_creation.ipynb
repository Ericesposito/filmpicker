{
 "cells": [
  {
   "cell_type": "code",
   "execution_count": 5,
   "metadata": {},
   "outputs": [],
   "source": [
    "import pandas as pd\n",
    "\n",
    "# Importing both sets of data, movies and ratings\n",
    "df_movies = pd.read_csv('~/Downloads/ml-latest-small/movies.csv')\n",
    "df_ratings = pd.read_csv('~/Downloads/ml-latest-small/ratings.csv')\n",
    "# Creating an inner join table\n",
    "df_merged = pd.merge(df_movies, df_ratings, on='movieId', how='inner')\n",
    "\n",
    "# Peaking at the created table to verify structure and content\n",
    "# df_merged.head()\n",
    "\n",
    "# Create pivot table \n",
    "    # Columns represent movie titles\n",
    "    # Rows represent individual userIds\n",
    "    # Values in each cell represent that user's rating for that movie\n",
    "df = df_merged.pivot_table(index='userId', columns='title', values='rating')\n",
    "\n",
    "# Only retain films that have at least 5 ratings\n",
    "df = df.dropna(thresh=5, axis=1)\n",
    "# Replace any missing data with value of 0\n",
    "df.fillna(0, inplace=True)\n",
    "\n",
    "# Peaking at created table to verify structure and content\n",
    "# df.head()\n",
    "\n",
    "# Create a data frame using the Pearson correlation to determine similarity value\n",
    "df_similarity = df.corr(method='pearson')\n"
   ]
  }
 ],
 "metadata": {
  "kernelspec": {
   "display_name": "movieAppData",
   "language": "python",
   "name": "python3"
  },
  "language_info": {
   "codemirror_mode": {
    "name": "ipython",
    "version": 3
   },
   "file_extension": ".py",
   "mimetype": "text/x-python",
   "name": "python",
   "nbconvert_exporter": "python",
   "pygments_lexer": "ipython3",
   "version": "3.11.7"
  }
 },
 "nbformat": 4,
 "nbformat_minor": 2
}
